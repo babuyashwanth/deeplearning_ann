{
  "nbformat": 4,
  "nbformat_minor": 0,
  "metadata": {
    "colab": {
      "name": "Ranbom Vaccination.ipynb",
      "provenance": [],
      "authorship_tag": "ABX9TyOsnxkF8qLoLVTTc35dR3WX",
      "include_colab_link": true
    },
    "kernelspec": {
      "name": "python3",
      "display_name": "Python 3"
    },
    "language_info": {
      "name": "python"
    }
  },
  "cells": [
    {
      "cell_type": "markdown",
      "metadata": {
        "id": "view-in-github",
        "colab_type": "text"
      },
      "source": [
        "<a href=\"https://colab.research.google.com/github/babuyashwanth/deeplearning_ann/blob/main/Ranbom_Vaccination.ipynb\" target=\"_parent\"><img src=\"https://colab.research.google.com/assets/colab-badge.svg\" alt=\"Open In Colab\"/></a>"
      ]
    },
    {
      "cell_type": "code",
      "metadata": {
        "id": "rP8YGY8qO-dw"
      },
      "source": [
        "import keras\n",
        "from keras.models import Sequential\n",
        "from keras.layers import Dense\n",
        "from keras.optimizers import Adam"
      ],
      "execution_count": 1,
      "outputs": []
    },
    {
      "cell_type": "code",
      "metadata": {
        "id": "mH7e9n8yPQTJ"
      },
      "source": [
        "import numpy as np\n",
        "from random import randint\n",
        "from sklearn.preprocessing import MinMaxScaler"
      ],
      "execution_count": 2,
      "outputs": []
    },
    {
      "cell_type": "code",
      "metadata": {
        "id": "NkIuGMfIPgEx"
      },
      "source": [
        "train_sample = []\n",
        "train_label = []"
      ],
      "execution_count": 3,
      "outputs": []
    },
    {
      "cell_type": "code",
      "metadata": {
        "id": "HHdJ_scXPlvU"
      },
      "source": [
        "for i in range(1000):\n",
        "  younger_ages=randint(13,64)\n",
        "  train_sample.append(younger_ages)\n",
        "  train_label.append(0)\n",
        "\n",
        "  elder_ages=randint(65,100)\n",
        "  train_sample.append(elder_ages)\n",
        "  train_label.append(1)"
      ],
      "execution_count": 4,
      "outputs": []
    },
    {
      "cell_type": "code",
      "metadata": {
        "id": "RaJDOx3_QOjF"
      },
      "source": [
        "train_sample=np.array(train_sample)\n",
        "train_label=np.array(train_label)"
      ],
      "execution_count": 5,
      "outputs": []
    },
    {
      "cell_type": "code",
      "metadata": {
        "colab": {
          "base_uri": "https://localhost:8080/"
        },
        "id": "Q4QzaeZNUj5X",
        "outputId": "d38ac103-effd-4dbf-b710-9e8ac4a6e243"
      },
      "source": [
        "train_sample.shape"
      ],
      "execution_count": 14,
      "outputs": [
        {
          "output_type": "execute_result",
          "data": {
            "text/plain": [
              "(2000,)"
            ]
          },
          "metadata": {
            "tags": []
          },
          "execution_count": 14
        }
      ]
    },
    {
      "cell_type": "code",
      "metadata": {
        "colab": {
          "base_uri": "https://localhost:8080/"
        },
        "id": "nMN7WhcwUnv_",
        "outputId": "79480ae1-c80b-4894-f9c5-64da0982cada"
      },
      "source": [
        "train_label.shape"
      ],
      "execution_count": 15,
      "outputs": [
        {
          "output_type": "execute_result",
          "data": {
            "text/plain": [
              "(2000,)"
            ]
          },
          "metadata": {
            "tags": []
          },
          "execution_count": 15
        }
      ]
    },
    {
      "cell_type": "code",
      "metadata": {
        "id": "35txN3tMQgvn"
      },
      "source": [
        "scaler = MinMaxScaler(feature_range=(0,1))\n",
        "scaler_train_sample=scaler.fit_transform(train_sample.reshape(-1,1))"
      ],
      "execution_count": 6,
      "outputs": []
    },
    {
      "cell_type": "code",
      "metadata": {
        "colab": {
          "base_uri": "https://localhost:8080/"
        },
        "id": "BJsN20FrUssx",
        "outputId": "ef201d47-6658-477a-c6c8-6472b7342b19"
      },
      "source": [
        "scaler_train_sample.shape"
      ],
      "execution_count": 16,
      "outputs": [
        {
          "output_type": "execute_result",
          "data": {
            "text/plain": [
              "(2000, 1)"
            ]
          },
          "metadata": {
            "tags": []
          },
          "execution_count": 16
        }
      ]
    },
    {
      "cell_type": "code",
      "metadata": {
        "id": "_XzT8K82Q84b"
      },
      "source": [
        "model=Sequential([Dense(16,input_dim=1,activation='relu'),Dense(32,activation='relu'),Dense(2,activation='softmax')])"
      ],
      "execution_count": 7,
      "outputs": []
    },
    {
      "cell_type": "code",
      "metadata": {
        "colab": {
          "base_uri": "https://localhost:8080/"
        },
        "id": "38ZH9LdzRiCl",
        "outputId": "96e10649-dee9-45b1-feeb-de870dc20d0f"
      },
      "source": [
        "model.summary()"
      ],
      "execution_count": 8,
      "outputs": [
        {
          "output_type": "stream",
          "text": [
            "Model: \"sequential\"\n",
            "_________________________________________________________________\n",
            "Layer (type)                 Output Shape              Param #   \n",
            "=================================================================\n",
            "dense (Dense)                (None, 16)                32        \n",
            "_________________________________________________________________\n",
            "dense_1 (Dense)              (None, 32)                544       \n",
            "_________________________________________________________________\n",
            "dense_2 (Dense)              (None, 2)                 66        \n",
            "=================================================================\n",
            "Total params: 642\n",
            "Trainable params: 642\n",
            "Non-trainable params: 0\n",
            "_________________________________________________________________\n"
          ],
          "name": "stdout"
        }
      ]
    },
    {
      "cell_type": "code",
      "metadata": {
        "id": "Tn7uBfnuSPdk"
      },
      "source": [
        "model.compile(optimizer='rmsprop',loss='sparse_categorical_crossentropy',metrics=['accuracy'])"
      ],
      "execution_count": 17,
      "outputs": []
    },
    {
      "cell_type": "code",
      "metadata": {
        "colab": {
          "base_uri": "https://localhost:8080/"
        },
        "id": "xwt8ZKg6S-CH",
        "outputId": "e6a3d591-16fc-4b74-ee0e-e03bc564e8fb"
      },
      "source": [
        "model.fit(train_sample,train_label,batch_size=10,epochs=100)"
      ],
      "execution_count": 19,
      "outputs": [
        {
          "output_type": "stream",
          "text": [
            "Epoch 1/100\n",
            "200/200 [==============================] - 0s 1ms/step - loss: 0.1273 - accuracy: 0.9565\n",
            "Epoch 2/100\n",
            "200/200 [==============================] - 0s 1ms/step - loss: 0.1170 - accuracy: 0.9615\n",
            "Epoch 3/100\n",
            "200/200 [==============================] - 0s 1ms/step - loss: 0.1083 - accuracy: 0.9685\n",
            "Epoch 4/100\n",
            "200/200 [==============================] - 0s 1ms/step - loss: 0.1059 - accuracy: 0.9635\n",
            "Epoch 5/100\n",
            "200/200 [==============================] - 0s 1ms/step - loss: 0.0998 - accuracy: 0.9660\n",
            "Epoch 6/100\n",
            "200/200 [==============================] - 0s 1ms/step - loss: 0.0941 - accuracy: 0.9640\n",
            "Epoch 7/100\n",
            "200/200 [==============================] - 0s 1ms/step - loss: 0.0900 - accuracy: 0.9685\n",
            "Epoch 8/100\n",
            "200/200 [==============================] - 0s 1ms/step - loss: 0.0852 - accuracy: 0.9665\n",
            "Epoch 9/100\n",
            "200/200 [==============================] - 0s 1ms/step - loss: 0.0859 - accuracy: 0.9650\n",
            "Epoch 10/100\n",
            "200/200 [==============================] - 0s 1ms/step - loss: 0.0807 - accuracy: 0.9745\n",
            "Epoch 11/100\n",
            "200/200 [==============================] - 0s 1ms/step - loss: 0.0803 - accuracy: 0.9730\n",
            "Epoch 12/100\n",
            "200/200 [==============================] - 0s 1ms/step - loss: 0.0785 - accuracy: 0.9730\n",
            "Epoch 13/100\n",
            "200/200 [==============================] - 0s 1ms/step - loss: 0.0731 - accuracy: 0.9715\n",
            "Epoch 14/100\n",
            "200/200 [==============================] - 0s 1ms/step - loss: 0.0704 - accuracy: 0.9730\n",
            "Epoch 15/100\n",
            "200/200 [==============================] - 0s 1ms/step - loss: 0.0695 - accuracy: 0.9760\n",
            "Epoch 16/100\n",
            "200/200 [==============================] - 0s 1ms/step - loss: 0.0686 - accuracy: 0.9710\n",
            "Epoch 17/100\n",
            "200/200 [==============================] - 0s 1ms/step - loss: 0.0722 - accuracy: 0.9730\n",
            "Epoch 18/100\n",
            "200/200 [==============================] - 0s 1ms/step - loss: 0.0658 - accuracy: 0.9790\n",
            "Epoch 19/100\n",
            "200/200 [==============================] - 0s 1ms/step - loss: 0.0626 - accuracy: 0.9750\n",
            "Epoch 20/100\n",
            "200/200 [==============================] - 0s 1ms/step - loss: 0.0633 - accuracy: 0.9775\n",
            "Epoch 21/100\n",
            "200/200 [==============================] - 0s 1ms/step - loss: 0.0632 - accuracy: 0.9745\n",
            "Epoch 22/100\n",
            "200/200 [==============================] - 0s 1ms/step - loss: 0.0653 - accuracy: 0.9725\n",
            "Epoch 23/100\n",
            "200/200 [==============================] - 0s 1ms/step - loss: 0.0645 - accuracy: 0.9725\n",
            "Epoch 24/100\n",
            "200/200 [==============================] - 0s 1ms/step - loss: 0.0572 - accuracy: 0.9735\n",
            "Epoch 25/100\n",
            "200/200 [==============================] - 0s 1ms/step - loss: 0.0614 - accuracy: 0.9760\n",
            "Epoch 26/100\n",
            "200/200 [==============================] - 0s 1ms/step - loss: 0.0620 - accuracy: 0.9725\n",
            "Epoch 27/100\n",
            "200/200 [==============================] - 0s 1ms/step - loss: 0.0645 - accuracy: 0.9710\n",
            "Epoch 28/100\n",
            "200/200 [==============================] - 0s 1ms/step - loss: 0.0578 - accuracy: 0.9725\n",
            "Epoch 29/100\n",
            "200/200 [==============================] - 0s 1ms/step - loss: 0.0589 - accuracy: 0.9740\n",
            "Epoch 30/100\n",
            "200/200 [==============================] - 0s 1ms/step - loss: 0.0562 - accuracy: 0.9760\n",
            "Epoch 31/100\n",
            "200/200 [==============================] - 0s 1ms/step - loss: 0.0506 - accuracy: 0.9760\n",
            "Epoch 32/100\n",
            "200/200 [==============================] - 0s 1ms/step - loss: 0.0557 - accuracy: 0.9745\n",
            "Epoch 33/100\n",
            "200/200 [==============================] - 0s 1ms/step - loss: 0.0566 - accuracy: 0.9730\n",
            "Epoch 34/100\n",
            "200/200 [==============================] - 0s 1ms/step - loss: 0.0555 - accuracy: 0.9750\n",
            "Epoch 35/100\n",
            "200/200 [==============================] - 0s 1ms/step - loss: 0.0569 - accuracy: 0.9765\n",
            "Epoch 36/100\n",
            "200/200 [==============================] - 0s 1ms/step - loss: 0.0538 - accuracy: 0.9755\n",
            "Epoch 37/100\n",
            "200/200 [==============================] - 0s 1ms/step - loss: 0.0514 - accuracy: 0.9760\n",
            "Epoch 38/100\n",
            "200/200 [==============================] - 0s 1ms/step - loss: 0.0527 - accuracy: 0.9780\n",
            "Epoch 39/100\n",
            "200/200 [==============================] - 0s 1ms/step - loss: 0.0496 - accuracy: 0.9805\n",
            "Epoch 40/100\n",
            "200/200 [==============================] - 0s 1ms/step - loss: 0.0480 - accuracy: 0.9800\n",
            "Epoch 41/100\n",
            "200/200 [==============================] - 0s 1ms/step - loss: 0.0477 - accuracy: 0.9790\n",
            "Epoch 42/100\n",
            "200/200 [==============================] - 0s 1ms/step - loss: 0.0512 - accuracy: 0.9775\n",
            "Epoch 43/100\n",
            "200/200 [==============================] - 0s 1ms/step - loss: 0.0556 - accuracy: 0.9745\n",
            "Epoch 44/100\n",
            "200/200 [==============================] - 0s 1ms/step - loss: 0.0512 - accuracy: 0.9745\n",
            "Epoch 45/100\n",
            "200/200 [==============================] - 0s 1ms/step - loss: 0.0494 - accuracy: 0.9780\n",
            "Epoch 46/100\n",
            "200/200 [==============================] - 0s 1ms/step - loss: 0.0491 - accuracy: 0.9790\n",
            "Epoch 47/100\n",
            "200/200 [==============================] - 0s 1ms/step - loss: 0.0507 - accuracy: 0.9780\n",
            "Epoch 48/100\n",
            "200/200 [==============================] - 0s 1ms/step - loss: 0.0473 - accuracy: 0.9790\n",
            "Epoch 49/100\n",
            "200/200 [==============================] - 0s 1ms/step - loss: 0.0492 - accuracy: 0.9800\n",
            "Epoch 50/100\n",
            "200/200 [==============================] - 0s 1ms/step - loss: 0.0499 - accuracy: 0.9745\n",
            "Epoch 51/100\n",
            "200/200 [==============================] - 0s 1ms/step - loss: 0.0443 - accuracy: 0.9805\n",
            "Epoch 52/100\n",
            "200/200 [==============================] - 0s 1ms/step - loss: 0.0474 - accuracy: 0.9780\n",
            "Epoch 53/100\n",
            "200/200 [==============================] - 0s 1ms/step - loss: 0.0481 - accuracy: 0.9770\n",
            "Epoch 54/100\n",
            "200/200 [==============================] - 0s 1ms/step - loss: 0.0463 - accuracy: 0.9810\n",
            "Epoch 55/100\n",
            "200/200 [==============================] - 0s 1ms/step - loss: 0.0463 - accuracy: 0.9810\n",
            "Epoch 56/100\n",
            "200/200 [==============================] - 0s 1ms/step - loss: 0.0445 - accuracy: 0.9800\n",
            "Epoch 57/100\n",
            "200/200 [==============================] - 0s 1ms/step - loss: 0.0439 - accuracy: 0.9810\n",
            "Epoch 58/100\n",
            "200/200 [==============================] - 0s 1ms/step - loss: 0.0466 - accuracy: 0.9805\n",
            "Epoch 59/100\n",
            "200/200 [==============================] - 0s 1ms/step - loss: 0.0477 - accuracy: 0.9745\n",
            "Epoch 60/100\n",
            "200/200 [==============================] - 0s 1ms/step - loss: 0.0424 - accuracy: 0.9835\n",
            "Epoch 61/100\n",
            "200/200 [==============================] - 0s 1ms/step - loss: 0.0454 - accuracy: 0.9810\n",
            "Epoch 62/100\n",
            "200/200 [==============================] - 0s 1ms/step - loss: 0.0436 - accuracy: 0.9835\n",
            "Epoch 63/100\n",
            "200/200 [==============================] - 0s 1ms/step - loss: 0.0427 - accuracy: 0.9810\n",
            "Epoch 64/100\n",
            "200/200 [==============================] - 0s 1ms/step - loss: 0.0426 - accuracy: 0.9810\n",
            "Epoch 65/100\n",
            "200/200 [==============================] - 0s 1ms/step - loss: 0.0487 - accuracy: 0.9765\n",
            "Epoch 66/100\n",
            "200/200 [==============================] - 0s 1ms/step - loss: 0.0428 - accuracy: 0.9810\n",
            "Epoch 67/100\n",
            "200/200 [==============================] - 0s 1ms/step - loss: 0.0404 - accuracy: 0.9785\n",
            "Epoch 68/100\n",
            "200/200 [==============================] - 0s 1ms/step - loss: 0.0464 - accuracy: 0.9745\n",
            "Epoch 69/100\n",
            "200/200 [==============================] - 0s 1ms/step - loss: 0.0423 - accuracy: 0.9825\n",
            "Epoch 70/100\n",
            "200/200 [==============================] - 0s 1ms/step - loss: 0.0410 - accuracy: 0.9830\n",
            "Epoch 71/100\n",
            "200/200 [==============================] - 0s 1ms/step - loss: 0.0452 - accuracy: 0.9795\n",
            "Epoch 72/100\n",
            "200/200 [==============================] - 0s 1ms/step - loss: 0.0435 - accuracy: 0.9780\n",
            "Epoch 73/100\n",
            "200/200 [==============================] - 0s 1ms/step - loss: 0.0421 - accuracy: 0.9820\n",
            "Epoch 74/100\n",
            "200/200 [==============================] - 0s 1ms/step - loss: 0.0418 - accuracy: 0.9840\n",
            "Epoch 75/100\n",
            "200/200 [==============================] - 0s 1ms/step - loss: 0.0394 - accuracy: 0.9835\n",
            "Epoch 76/100\n",
            "200/200 [==============================] - 0s 1ms/step - loss: 0.0433 - accuracy: 0.9815\n",
            "Epoch 77/100\n",
            "200/200 [==============================] - 0s 1ms/step - loss: 0.0405 - accuracy: 0.9835\n",
            "Epoch 78/100\n",
            "200/200 [==============================] - 0s 1ms/step - loss: 0.0401 - accuracy: 0.9830\n",
            "Epoch 79/100\n",
            "200/200 [==============================] - 0s 1ms/step - loss: 0.0418 - accuracy: 0.9835\n",
            "Epoch 80/100\n",
            "200/200 [==============================] - 0s 1ms/step - loss: 0.0410 - accuracy: 0.9805\n",
            "Epoch 81/100\n",
            "200/200 [==============================] - 0s 1ms/step - loss: 0.0447 - accuracy: 0.9790\n",
            "Epoch 82/100\n",
            "200/200 [==============================] - 0s 1ms/step - loss: 0.0434 - accuracy: 0.9810\n",
            "Epoch 83/100\n",
            "200/200 [==============================] - 0s 1ms/step - loss: 0.0355 - accuracy: 0.9860\n",
            "Epoch 84/100\n",
            "200/200 [==============================] - 0s 1ms/step - loss: 0.0413 - accuracy: 0.9835\n",
            "Epoch 85/100\n",
            "200/200 [==============================] - 0s 1ms/step - loss: 0.0391 - accuracy: 0.9805\n",
            "Epoch 86/100\n",
            "200/200 [==============================] - 0s 1ms/step - loss: 0.0360 - accuracy: 0.9855\n",
            "Epoch 87/100\n",
            "200/200 [==============================] - 0s 1ms/step - loss: 0.0413 - accuracy: 0.9820\n",
            "Epoch 88/100\n",
            "200/200 [==============================] - 0s 1ms/step - loss: 0.0425 - accuracy: 0.9795\n",
            "Epoch 89/100\n",
            "200/200 [==============================] - 0s 1ms/step - loss: 0.0386 - accuracy: 0.9810\n",
            "Epoch 90/100\n",
            "200/200 [==============================] - 0s 1ms/step - loss: 0.0401 - accuracy: 0.9825\n",
            "Epoch 91/100\n",
            "200/200 [==============================] - 0s 1ms/step - loss: 0.0421 - accuracy: 0.9825\n",
            "Epoch 92/100\n",
            "200/200 [==============================] - 0s 1ms/step - loss: 0.0368 - accuracy: 0.9840\n",
            "Epoch 93/100\n",
            "200/200 [==============================] - 0s 1ms/step - loss: 0.0354 - accuracy: 0.9840\n",
            "Epoch 94/100\n",
            "200/200 [==============================] - 0s 1ms/step - loss: 0.0402 - accuracy: 0.9820\n",
            "Epoch 95/100\n",
            "200/200 [==============================] - 0s 1ms/step - loss: 0.0400 - accuracy: 0.9825\n",
            "Epoch 96/100\n",
            "200/200 [==============================] - 0s 1ms/step - loss: 0.0414 - accuracy: 0.9825\n",
            "Epoch 97/100\n",
            "200/200 [==============================] - 0s 1ms/step - loss: 0.0361 - accuracy: 0.9870\n",
            "Epoch 98/100\n",
            "200/200 [==============================] - 0s 1ms/step - loss: 0.0403 - accuracy: 0.9825\n",
            "Epoch 99/100\n",
            "200/200 [==============================] - 0s 1ms/step - loss: 0.0367 - accuracy: 0.9865\n",
            "Epoch 100/100\n",
            "200/200 [==============================] - 0s 1ms/step - loss: 0.0349 - accuracy: 0.9830\n"
          ],
          "name": "stdout"
        },
        {
          "output_type": "execute_result",
          "data": {
            "text/plain": [
              "<keras.callbacks.History at 0x7f708f230e90>"
            ]
          },
          "metadata": {
            "tags": []
          },
          "execution_count": 19
        }
      ]
    },
    {
      "cell_type": "code",
      "metadata": {
        "id": "2vT3HND9T1KG"
      },
      "source": [
        "test_sample = []\n",
        "test_label = []"
      ],
      "execution_count": 45,
      "outputs": []
    },
    {
      "cell_type": "code",
      "metadata": {
        "id": "3nkexdwTZ1S5"
      },
      "source": [
        "for i in range(500):\n",
        "  younger_ages=randint(13,64)\n",
        "  test_sample.append(younger_ages)\n",
        "  test_label.append(0)\n",
        "\n",
        "  elder_ages=randint(65,100)\n",
        "  test_sample.append(elder_ages)\n",
        "  test_label.append(1)"
      ],
      "execution_count": 46,
      "outputs": []
    },
    {
      "cell_type": "code",
      "metadata": {
        "id": "OUHoJ93XaE-H"
      },
      "source": [
        "test_label=np.array(test_label)\n",
        "test_sample=np.array(test_sample)"
      ],
      "execution_count": 47,
      "outputs": []
    },
    {
      "cell_type": "code",
      "metadata": {
        "colab": {
          "base_uri": "https://localhost:8080/"
        },
        "id": "QJvsOXL3aMOj",
        "outputId": "5ea41d0f-3d1d-4ced-c59d-ae498fd2aa6f"
      },
      "source": [
        "test_sample.shape"
      ],
      "execution_count": 48,
      "outputs": [
        {
          "output_type": "execute_result",
          "data": {
            "text/plain": [
              "(1000,)"
            ]
          },
          "metadata": {
            "tags": []
          },
          "execution_count": 48
        }
      ]
    },
    {
      "cell_type": "code",
      "metadata": {
        "colab": {
          "base_uri": "https://localhost:8080/"
        },
        "id": "IhPa8UVYaOSZ",
        "outputId": "260c28f8-3bd2-414d-f897-403014c186f1"
      },
      "source": [
        "test_label.shape"
      ],
      "execution_count": 49,
      "outputs": [
        {
          "output_type": "execute_result",
          "data": {
            "text/plain": [
              "(1000,)"
            ]
          },
          "metadata": {
            "tags": []
          },
          "execution_count": 49
        }
      ]
    },
    {
      "cell_type": "code",
      "metadata": {
        "colab": {
          "base_uri": "https://localhost:8080/"
        },
        "id": "91JFNHJFan5d",
        "outputId": "14050fc2-40cd-4d18-98e6-b5e2063e9f02"
      },
      "source": [
        "test_sample_output=model.predict_classes(test_sample,batch_size=10)"
      ],
      "execution_count": 52,
      "outputs": [
        {
          "output_type": "stream",
          "text": [
            "/usr/local/lib/python3.7/dist-packages/keras/engine/sequential.py:450: UserWarning: `model.predict_classes()` is deprecated and will be removed after 2021-01-01. Please use instead:* `np.argmax(model.predict(x), axis=-1)`,   if your model does multi-class classification   (e.g. if it uses a `softmax` last-layer activation).* `(model.predict(x) > 0.5).astype(\"int32\")`,   if your model does binary classification   (e.g. if it uses a `sigmoid` last-layer activation).\n",
            "  warnings.warn('`model.predict_classes()` is deprecated and '\n"
          ],
          "name": "stderr"
        }
      ]
    },
    {
      "cell_type": "code",
      "metadata": {
        "id": "-Z-3FPaqb8ZV"
      },
      "source": [
        "from sklearn.metrics import confusion_matrix "
      ],
      "execution_count": 51,
      "outputs": []
    },
    {
      "cell_type": "code",
      "metadata": {
        "id": "rj-wOEP9cC6j"
      },
      "source": [
        "cm = confusion_matrix(test_sample_output,test_label)"
      ],
      "execution_count": 53,
      "outputs": []
    },
    {
      "cell_type": "code",
      "metadata": {
        "colab": {
          "base_uri": "https://localhost:8080/"
        },
        "id": "D1F6adPbcXsh",
        "outputId": "5af75a28-d724-4557-dbd9-c8c99e705b9c"
      },
      "source": [
        "cm"
      ],
      "execution_count": 54,
      "outputs": [
        {
          "output_type": "execute_result",
          "data": {
            "text/plain": [
              "array([[500,  50],\n",
              "       [  0, 450]])"
            ]
          },
          "metadata": {
            "tags": []
          },
          "execution_count": 54
        }
      ]
    },
    {
      "cell_type": "code",
      "metadata": {
        "colab": {
          "base_uri": "https://localhost:8080/"
        },
        "id": "0a6XDt8XcaNx",
        "outputId": "985f8cf5-61b6-4670-f544-3afb33967f66"
      },
      "source": [
        "950/1000"
      ],
      "execution_count": 56,
      "outputs": [
        {
          "output_type": "execute_result",
          "data": {
            "text/plain": [
              "0.95"
            ]
          },
          "metadata": {
            "tags": []
          },
          "execution_count": 56
        }
      ]
    },
    {
      "cell_type": "code",
      "metadata": {
        "id": "ktFOAVOJcuRP"
      },
      "source": [
        ""
      ],
      "execution_count": null,
      "outputs": []
    }
  ]
}