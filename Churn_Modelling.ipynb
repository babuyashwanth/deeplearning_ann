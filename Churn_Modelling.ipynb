{
  "nbformat": 4,
  "nbformat_minor": 0,
  "metadata": {
    "colab": {
      "name": "Churn Modelling.ipynb",
      "provenance": [],
      "collapsed_sections": [],
      "authorship_tag": "ABX9TyN+w0vEL2YGcLMO83+CjzMn",
      "include_colab_link": true
    },
    "kernelspec": {
      "name": "python3",
      "display_name": "Python 3"
    },
    "language_info": {
      "name": "python"
    }
  },
  "cells": [
    {
      "cell_type": "markdown",
      "metadata": {
        "id": "view-in-github",
        "colab_type": "text"
      },
      "source": [
        "<a href=\"https://colab.research.google.com/github/babuyashwanth/deeplearning_ann/blob/main/Churn_Modelling.ipynb\" target=\"_parent\"><img src=\"https://colab.research.google.com/assets/colab-badge.svg\" alt=\"Open In Colab\"/></a>"
      ]
    },
    {
      "cell_type": "code",
      "metadata": {
        "id": "H_6aFHGSQwTe"
      },
      "source": [
        "import numpy as np\n",
        "import pandas as pd\n",
        "import matplotlib.pyplot as plt"
      ],
      "execution_count": 1,
      "outputs": []
    },
    {
      "cell_type": "code",
      "metadata": {
        "id": "rw1BSk2DRnCk"
      },
      "source": [
        "dataset = pd.read_csv('/content/Churn_Modelling.csv')"
      ],
      "execution_count": 2,
      "outputs": []
    },
    {
      "cell_type": "code",
      "metadata": {
        "colab": {
          "base_uri": "https://localhost:8080/"
        },
        "id": "KMxW27e6Tb7B",
        "outputId": "dc90f985-1cd8-4c4a-b009-f6344102c7de"
      },
      "source": [
        "dataset.columns"
      ],
      "execution_count": 3,
      "outputs": [
        {
          "output_type": "execute_result",
          "data": {
            "text/plain": [
              "Index(['RowNumber', 'CustomerId', 'Surname', 'CreditScore', 'Geography',\n",
              "       'Gender', 'Age', 'Tenure', 'Balance', 'NumOfProducts', 'HasCrCard',\n",
              "       'IsActiveMember', 'EstimatedSalary', 'Exited'],\n",
              "      dtype='object')"
            ]
          },
          "metadata": {
            "tags": []
          },
          "execution_count": 3
        }
      ]
    },
    {
      "cell_type": "code",
      "metadata": {
        "id": "1sePQWrvTjst"
      },
      "source": [
        "X = dataset[['CreditScore', 'Geography',\n",
        "       'Gender', 'Age', 'Tenure', 'Balance', 'NumOfProducts', 'HasCrCard',\n",
        "       'IsActiveMember', 'EstimatedSalary']]"
      ],
      "execution_count": 4,
      "outputs": []
    },
    {
      "cell_type": "code",
      "metadata": {
        "id": "VAF1I5YYT0-Q"
      },
      "source": [
        "Y = dataset[['Exited']]"
      ],
      "execution_count": 5,
      "outputs": []
    },
    {
      "cell_type": "code",
      "metadata": {
        "id": "oEUStFpYUJWu"
      },
      "source": [
        "geography=pd.get_dummies(X[\"Geography\"],drop_first=True)\n",
        "gender=pd.get_dummies(X['Gender'],drop_first=True)"
      ],
      "execution_count": 6,
      "outputs": []
    },
    {
      "cell_type": "code",
      "metadata": {
        "id": "1yH_gvniUmjN"
      },
      "source": [
        "X = pd.concat([X,geography,gender],axis = 1)"
      ],
      "execution_count": 7,
      "outputs": []
    },
    {
      "cell_type": "code",
      "metadata": {
        "id": "Ax-9jenKUpgt"
      },
      "source": [
        "X =X.drop(['Geography','Gender'],axis =1)"
      ],
      "execution_count": 8,
      "outputs": []
    },
    {
      "cell_type": "code",
      "metadata": {
        "id": "qt9UOpG8VrJK"
      },
      "source": [
        "##splitting the data set"
      ],
      "execution_count": 9,
      "outputs": []
    },
    {
      "cell_type": "code",
      "metadata": {
        "id": "9Yb_h8voVvgG"
      },
      "source": [
        "from sklearn.model_selection import train_test_split\n",
        "X_train,X_test,Y_train,Y_test=train_test_split(X,Y,test_size=0.2,random_state=0)"
      ],
      "execution_count": 10,
      "outputs": []
    },
    {
      "cell_type": "code",
      "metadata": {
        "id": "dtN7der9WGSq"
      },
      "source": [
        "#feature scalling"
      ],
      "execution_count": 11,
      "outputs": []
    },
    {
      "cell_type": "code",
      "metadata": {
        "id": "ko-9kjjvWdta"
      },
      "source": [
        "from sklearn.preprocessing import StandardScaler\n",
        "sc = StandardScaler()\n",
        "X_train=sc.fit_transform(X_train)\n",
        "X_test =sc.transform(X_test)"
      ],
      "execution_count": 12,
      "outputs": []
    },
    {
      "cell_type": "code",
      "metadata": {
        "id": "HwBJFoJpceCQ"
      },
      "source": [
        "import keras"
      ],
      "execution_count": 13,
      "outputs": []
    },
    {
      "cell_type": "code",
      "metadata": {
        "id": "7bXT3LE4ciQL"
      },
      "source": [
        "from keras.models import Sequential\n",
        "from keras.layers import ReLU,LeakyReLU,ELU\n",
        "from keras.layers import Dense\n",
        "from keras.layers import Dropout"
      ],
      "execution_count": 14,
      "outputs": []
    },
    {
      "cell_type": "code",
      "metadata": {
        "id": "guB1gnIjc8ww"
      },
      "source": [
        "classifier = Sequential()"
      ],
      "execution_count": 15,
      "outputs": []
    },
    {
      "cell_type": "code",
      "metadata": {
        "id": "xXDjU5LsdAhn"
      },
      "source": [
        "classifier.add(Dense(units=6,kernel_initializer='he_uniform',activation='relu',input_dim=11))"
      ],
      "execution_count": 16,
      "outputs": []
    },
    {
      "cell_type": "code",
      "metadata": {
        "id": "aCOepvT5dnJT"
      },
      "source": [
        "classifier.add(Dense(units=6,kernel_initializer='he_uniform',activation='relu'))"
      ],
      "execution_count": 17,
      "outputs": []
    },
    {
      "cell_type": "code",
      "metadata": {
        "id": "JvQSFdhrd13o"
      },
      "source": [
        "classifier.add(Dense(units=1,kernel_initializer='glorot_uniform',activation='sigmoid'))"
      ],
      "execution_count": 18,
      "outputs": []
    },
    {
      "cell_type": "code",
      "metadata": {
        "id": "oQz15FLdeNu4"
      },
      "source": [
        "classifier.compile(optimizer='Adamax',loss='binary_crossentropy',metrics=['accuracy'])"
      ],
      "execution_count": 19,
      "outputs": []
    },
    {
      "cell_type": "code",
      "metadata": {
        "colab": {
          "base_uri": "https://localhost:8080/"
        },
        "id": "UEZJ0aN7eniW",
        "outputId": "ecab0b0f-f0fa-4181-8f0e-23a83fd2b73e"
      },
      "source": [
        "model_history=classifier.fit(X_train,Y_train,validation_split=0.33,batch_size=10,epochs=100)"
      ],
      "execution_count": 20,
      "outputs": [
        {
          "output_type": "stream",
          "text": [
            "Epoch 1/100\n",
            "536/536 [==============================] - 16s 3ms/step - loss: 0.6241 - accuracy: 0.6642 - val_loss: 0.5291 - val_accuracy: 0.7955\n",
            "Epoch 2/100\n",
            "536/536 [==============================] - 1s 2ms/step - loss: 0.5016 - accuracy: 0.7987 - val_loss: 0.5017 - val_accuracy: 0.7955\n",
            "Epoch 3/100\n",
            "536/536 [==============================] - 1s 2ms/step - loss: 0.4947 - accuracy: 0.7919 - val_loss: 0.4911 - val_accuracy: 0.7955\n",
            "Epoch 4/100\n",
            "536/536 [==============================] - 1s 2ms/step - loss: 0.4747 - accuracy: 0.8006 - val_loss: 0.4834 - val_accuracy: 0.7955\n",
            "Epoch 5/100\n",
            "536/536 [==============================] - 1s 2ms/step - loss: 0.4605 - accuracy: 0.8012 - val_loss: 0.4770 - val_accuracy: 0.7955\n",
            "Epoch 6/100\n",
            "536/536 [==============================] - 1s 2ms/step - loss: 0.4724 - accuracy: 0.7857 - val_loss: 0.4720 - val_accuracy: 0.7955\n",
            "Epoch 7/100\n",
            "536/536 [==============================] - 1s 2ms/step - loss: 0.4557 - accuracy: 0.8009 - val_loss: 0.4676 - val_accuracy: 0.7955\n",
            "Epoch 8/100\n",
            "536/536 [==============================] - 1s 2ms/step - loss: 0.4587 - accuracy: 0.7925 - val_loss: 0.4640 - val_accuracy: 0.7955\n",
            "Epoch 9/100\n",
            "536/536 [==============================] - 1s 2ms/step - loss: 0.4520 - accuracy: 0.7960 - val_loss: 0.4605 - val_accuracy: 0.7955\n",
            "Epoch 10/100\n",
            "536/536 [==============================] - 1s 2ms/step - loss: 0.4495 - accuracy: 0.7927 - val_loss: 0.4576 - val_accuracy: 0.7955\n",
            "Epoch 11/100\n",
            "536/536 [==============================] - 1s 2ms/step - loss: 0.4395 - accuracy: 0.8041 - val_loss: 0.4553 - val_accuracy: 0.7955\n",
            "Epoch 12/100\n",
            "536/536 [==============================] - 1s 2ms/step - loss: 0.4396 - accuracy: 0.8007 - val_loss: 0.4532 - val_accuracy: 0.7955\n",
            "Epoch 13/100\n",
            "536/536 [==============================] - 1s 2ms/step - loss: 0.4532 - accuracy: 0.7835 - val_loss: 0.4512 - val_accuracy: 0.7955\n",
            "Epoch 14/100\n",
            "536/536 [==============================] - 1s 2ms/step - loss: 0.4383 - accuracy: 0.8001 - val_loss: 0.4494 - val_accuracy: 0.7955\n",
            "Epoch 15/100\n",
            "536/536 [==============================] - 1s 2ms/step - loss: 0.4470 - accuracy: 0.7944 - val_loss: 0.4479 - val_accuracy: 0.7955\n",
            "Epoch 16/100\n",
            "536/536 [==============================] - 1s 2ms/step - loss: 0.4411 - accuracy: 0.7910 - val_loss: 0.4465 - val_accuracy: 0.7955\n",
            "Epoch 17/100\n",
            "536/536 [==============================] - 1s 2ms/step - loss: 0.4262 - accuracy: 0.8056 - val_loss: 0.4453 - val_accuracy: 0.7955\n",
            "Epoch 18/100\n",
            "536/536 [==============================] - 1s 2ms/step - loss: 0.4303 - accuracy: 0.8043 - val_loss: 0.4443 - val_accuracy: 0.7955\n",
            "Epoch 19/100\n",
            "536/536 [==============================] - 1s 2ms/step - loss: 0.4289 - accuracy: 0.7990 - val_loss: 0.4433 - val_accuracy: 0.7955\n",
            "Epoch 20/100\n",
            "536/536 [==============================] - 1s 2ms/step - loss: 0.4368 - accuracy: 0.7956 - val_loss: 0.4425 - val_accuracy: 0.7955\n",
            "Epoch 21/100\n",
            "536/536 [==============================] - 1s 2ms/step - loss: 0.4258 - accuracy: 0.8011 - val_loss: 0.4416 - val_accuracy: 0.7955\n",
            "Epoch 22/100\n",
            "536/536 [==============================] - 1s 2ms/step - loss: 0.4281 - accuracy: 0.8023 - val_loss: 0.4409 - val_accuracy: 0.7955\n",
            "Epoch 23/100\n",
            "536/536 [==============================] - 1s 2ms/step - loss: 0.4271 - accuracy: 0.7958 - val_loss: 0.4401 - val_accuracy: 0.7955\n",
            "Epoch 24/100\n",
            "536/536 [==============================] - 1s 2ms/step - loss: 0.4225 - accuracy: 0.7913 - val_loss: 0.4395 - val_accuracy: 0.7955\n",
            "Epoch 25/100\n",
            "536/536 [==============================] - 1s 2ms/step - loss: 0.4340 - accuracy: 0.7843 - val_loss: 0.4389 - val_accuracy: 0.7955\n",
            "Epoch 26/100\n",
            "536/536 [==============================] - 1s 2ms/step - loss: 0.4212 - accuracy: 0.8011 - val_loss: 0.4382 - val_accuracy: 0.7955\n",
            "Epoch 27/100\n",
            "536/536 [==============================] - 1s 2ms/step - loss: 0.4213 - accuracy: 0.7960 - val_loss: 0.4376 - val_accuracy: 0.7955\n",
            "Epoch 28/100\n",
            "536/536 [==============================] - 1s 2ms/step - loss: 0.4305 - accuracy: 0.7904 - val_loss: 0.4369 - val_accuracy: 0.7959\n",
            "Epoch 29/100\n",
            "536/536 [==============================] - 1s 2ms/step - loss: 0.4309 - accuracy: 0.7923 - val_loss: 0.4364 - val_accuracy: 0.7997\n",
            "Epoch 30/100\n",
            "536/536 [==============================] - 1s 2ms/step - loss: 0.4247 - accuracy: 0.8050 - val_loss: 0.4357 - val_accuracy: 0.8005\n",
            "Epoch 31/100\n",
            "536/536 [==============================] - 1s 2ms/step - loss: 0.4247 - accuracy: 0.8033 - val_loss: 0.4351 - val_accuracy: 0.8005\n",
            "Epoch 32/100\n",
            "536/536 [==============================] - 1s 2ms/step - loss: 0.4142 - accuracy: 0.8014 - val_loss: 0.4345 - val_accuracy: 0.8042\n",
            "Epoch 33/100\n",
            "536/536 [==============================] - 1s 2ms/step - loss: 0.4291 - accuracy: 0.8155 - val_loss: 0.4341 - val_accuracy: 0.8035\n",
            "Epoch 34/100\n",
            "536/536 [==============================] - 1s 2ms/step - loss: 0.4266 - accuracy: 0.8133 - val_loss: 0.4334 - val_accuracy: 0.8039\n",
            "Epoch 35/100\n",
            "536/536 [==============================] - 1s 2ms/step - loss: 0.4132 - accuracy: 0.8185 - val_loss: 0.4327 - val_accuracy: 0.8046\n",
            "Epoch 36/100\n",
            "536/536 [==============================] - 1s 2ms/step - loss: 0.4275 - accuracy: 0.8112 - val_loss: 0.4320 - val_accuracy: 0.8058\n",
            "Epoch 37/100\n",
            "536/536 [==============================] - 1s 2ms/step - loss: 0.4012 - accuracy: 0.8276 - val_loss: 0.4313 - val_accuracy: 0.8061\n",
            "Epoch 38/100\n",
            "536/536 [==============================] - 1s 2ms/step - loss: 0.4151 - accuracy: 0.8184 - val_loss: 0.4307 - val_accuracy: 0.8046\n",
            "Epoch 39/100\n",
            "536/536 [==============================] - 1s 2ms/step - loss: 0.4166 - accuracy: 0.8186 - val_loss: 0.4302 - val_accuracy: 0.8058\n",
            "Epoch 40/100\n",
            "536/536 [==============================] - 1s 2ms/step - loss: 0.4131 - accuracy: 0.8281 - val_loss: 0.4294 - val_accuracy: 0.8073\n",
            "Epoch 41/100\n",
            "536/536 [==============================] - 1s 2ms/step - loss: 0.4205 - accuracy: 0.8204 - val_loss: 0.4288 - val_accuracy: 0.8065\n",
            "Epoch 42/100\n",
            "536/536 [==============================] - 1s 2ms/step - loss: 0.4131 - accuracy: 0.8241 - val_loss: 0.4280 - val_accuracy: 0.8054\n",
            "Epoch 43/100\n",
            "536/536 [==============================] - 1s 2ms/step - loss: 0.4265 - accuracy: 0.8162 - val_loss: 0.4274 - val_accuracy: 0.8061\n",
            "Epoch 44/100\n",
            "536/536 [==============================] - 1s 2ms/step - loss: 0.4195 - accuracy: 0.8246 - val_loss: 0.4267 - val_accuracy: 0.8073\n",
            "Epoch 45/100\n",
            "536/536 [==============================] - 1s 2ms/step - loss: 0.4048 - accuracy: 0.8295 - val_loss: 0.4259 - val_accuracy: 0.8092\n",
            "Epoch 46/100\n",
            "536/536 [==============================] - 1s 2ms/step - loss: 0.4126 - accuracy: 0.8250 - val_loss: 0.4250 - val_accuracy: 0.8107\n",
            "Epoch 47/100\n",
            "536/536 [==============================] - 1s 2ms/step - loss: 0.4098 - accuracy: 0.8273 - val_loss: 0.4243 - val_accuracy: 0.8111\n",
            "Epoch 48/100\n",
            "536/536 [==============================] - 1s 2ms/step - loss: 0.4044 - accuracy: 0.8263 - val_loss: 0.4234 - val_accuracy: 0.8114\n",
            "Epoch 49/100\n",
            "536/536 [==============================] - 1s 2ms/step - loss: 0.4105 - accuracy: 0.8215 - val_loss: 0.4225 - val_accuracy: 0.8118\n",
            "Epoch 50/100\n",
            "536/536 [==============================] - 1s 2ms/step - loss: 0.4018 - accuracy: 0.8299 - val_loss: 0.4214 - val_accuracy: 0.8126\n",
            "Epoch 51/100\n",
            "536/536 [==============================] - 1s 2ms/step - loss: 0.4105 - accuracy: 0.8199 - val_loss: 0.4203 - val_accuracy: 0.8137\n",
            "Epoch 52/100\n",
            "536/536 [==============================] - 1s 2ms/step - loss: 0.4046 - accuracy: 0.8293 - val_loss: 0.4192 - val_accuracy: 0.8137\n",
            "Epoch 53/100\n",
            "536/536 [==============================] - 1s 2ms/step - loss: 0.3927 - accuracy: 0.8344 - val_loss: 0.4184 - val_accuracy: 0.8129\n",
            "Epoch 54/100\n",
            "536/536 [==============================] - 1s 2ms/step - loss: 0.4113 - accuracy: 0.8288 - val_loss: 0.4176 - val_accuracy: 0.8137\n",
            "Epoch 55/100\n",
            "536/536 [==============================] - 1s 2ms/step - loss: 0.3958 - accuracy: 0.8307 - val_loss: 0.4166 - val_accuracy: 0.8114\n",
            "Epoch 56/100\n",
            "536/536 [==============================] - 1s 2ms/step - loss: 0.3927 - accuracy: 0.8293 - val_loss: 0.4158 - val_accuracy: 0.8126\n",
            "Epoch 57/100\n",
            "536/536 [==============================] - 1s 2ms/step - loss: 0.3903 - accuracy: 0.8361 - val_loss: 0.4150 - val_accuracy: 0.8114\n",
            "Epoch 58/100\n",
            "536/536 [==============================] - 1s 2ms/step - loss: 0.3959 - accuracy: 0.8364 - val_loss: 0.4139 - val_accuracy: 0.8141\n",
            "Epoch 59/100\n",
            "536/536 [==============================] - 1s 2ms/step - loss: 0.3948 - accuracy: 0.8317 - val_loss: 0.4130 - val_accuracy: 0.8141\n",
            "Epoch 60/100\n",
            "536/536 [==============================] - 1s 2ms/step - loss: 0.3862 - accuracy: 0.8359 - val_loss: 0.4121 - val_accuracy: 0.8145\n",
            "Epoch 61/100\n",
            "536/536 [==============================] - 1s 2ms/step - loss: 0.4131 - accuracy: 0.8221 - val_loss: 0.4111 - val_accuracy: 0.8148\n",
            "Epoch 62/100\n",
            "536/536 [==============================] - 1s 2ms/step - loss: 0.3785 - accuracy: 0.8407 - val_loss: 0.4102 - val_accuracy: 0.8156\n",
            "Epoch 63/100\n",
            "536/536 [==============================] - 1s 2ms/step - loss: 0.3919 - accuracy: 0.8361 - val_loss: 0.4094 - val_accuracy: 0.8156\n",
            "Epoch 64/100\n",
            "536/536 [==============================] - 1s 2ms/step - loss: 0.3906 - accuracy: 0.8367 - val_loss: 0.4085 - val_accuracy: 0.8152\n",
            "Epoch 65/100\n",
            "536/536 [==============================] - 1s 2ms/step - loss: 0.3983 - accuracy: 0.8355 - val_loss: 0.4076 - val_accuracy: 0.8152\n",
            "Epoch 66/100\n",
            "536/536 [==============================] - 1s 2ms/step - loss: 0.3917 - accuracy: 0.8355 - val_loss: 0.4067 - val_accuracy: 0.8167\n",
            "Epoch 67/100\n",
            "536/536 [==============================] - 1s 2ms/step - loss: 0.3800 - accuracy: 0.8435 - val_loss: 0.4061 - val_accuracy: 0.8171\n",
            "Epoch 68/100\n",
            "536/536 [==============================] - 1s 2ms/step - loss: 0.3803 - accuracy: 0.8434 - val_loss: 0.4053 - val_accuracy: 0.8179\n",
            "Epoch 69/100\n",
            "536/536 [==============================] - 1s 2ms/step - loss: 0.3810 - accuracy: 0.8392 - val_loss: 0.4046 - val_accuracy: 0.8186\n",
            "Epoch 70/100\n",
            "536/536 [==============================] - 1s 2ms/step - loss: 0.3808 - accuracy: 0.8407 - val_loss: 0.4038 - val_accuracy: 0.8194\n",
            "Epoch 71/100\n",
            "536/536 [==============================] - 1s 2ms/step - loss: 0.3843 - accuracy: 0.8431 - val_loss: 0.4030 - val_accuracy: 0.8194\n",
            "Epoch 72/100\n",
            "536/536 [==============================] - 1s 2ms/step - loss: 0.3753 - accuracy: 0.8482 - val_loss: 0.4023 - val_accuracy: 0.8209\n",
            "Epoch 73/100\n",
            "536/536 [==============================] - 1s 2ms/step - loss: 0.3845 - accuracy: 0.8436 - val_loss: 0.4014 - val_accuracy: 0.8224\n",
            "Epoch 74/100\n",
            "536/536 [==============================] - 1s 2ms/step - loss: 0.3771 - accuracy: 0.8466 - val_loss: 0.4005 - val_accuracy: 0.8247\n",
            "Epoch 75/100\n",
            "536/536 [==============================] - 1s 2ms/step - loss: 0.3803 - accuracy: 0.8435 - val_loss: 0.4001 - val_accuracy: 0.8217\n",
            "Epoch 76/100\n",
            "536/536 [==============================] - 1s 2ms/step - loss: 0.3788 - accuracy: 0.8369 - val_loss: 0.3993 - val_accuracy: 0.8232\n",
            "Epoch 77/100\n",
            "536/536 [==============================] - 1s 2ms/step - loss: 0.3821 - accuracy: 0.8389 - val_loss: 0.3988 - val_accuracy: 0.8239\n",
            "Epoch 78/100\n",
            "536/536 [==============================] - 1s 2ms/step - loss: 0.3666 - accuracy: 0.8428 - val_loss: 0.3979 - val_accuracy: 0.8254\n",
            "Epoch 79/100\n",
            "536/536 [==============================] - 1s 2ms/step - loss: 0.3769 - accuracy: 0.8379 - val_loss: 0.3973 - val_accuracy: 0.8258\n",
            "Epoch 80/100\n",
            "536/536 [==============================] - 1s 2ms/step - loss: 0.3761 - accuracy: 0.8461 - val_loss: 0.3967 - val_accuracy: 0.8277\n",
            "Epoch 81/100\n",
            "536/536 [==============================] - 1s 2ms/step - loss: 0.3814 - accuracy: 0.8386 - val_loss: 0.3962 - val_accuracy: 0.8281\n",
            "Epoch 82/100\n",
            "536/536 [==============================] - 1s 2ms/step - loss: 0.3543 - accuracy: 0.8535 - val_loss: 0.3957 - val_accuracy: 0.8285\n",
            "Epoch 83/100\n",
            "536/536 [==============================] - 1s 2ms/step - loss: 0.3779 - accuracy: 0.8450 - val_loss: 0.3951 - val_accuracy: 0.8289\n",
            "Epoch 84/100\n",
            "536/536 [==============================] - 1s 2ms/step - loss: 0.3721 - accuracy: 0.8447 - val_loss: 0.3946 - val_accuracy: 0.8292\n",
            "Epoch 85/100\n",
            "536/536 [==============================] - 1s 2ms/step - loss: 0.3779 - accuracy: 0.8370 - val_loss: 0.3943 - val_accuracy: 0.8300\n",
            "Epoch 86/100\n",
            "536/536 [==============================] - 1s 2ms/step - loss: 0.3766 - accuracy: 0.8463 - val_loss: 0.3938 - val_accuracy: 0.8300\n",
            "Epoch 87/100\n",
            "536/536 [==============================] - 1s 2ms/step - loss: 0.3803 - accuracy: 0.8443 - val_loss: 0.3932 - val_accuracy: 0.8273\n",
            "Epoch 88/100\n",
            "536/536 [==============================] - 1s 2ms/step - loss: 0.3676 - accuracy: 0.8464 - val_loss: 0.3929 - val_accuracy: 0.8277\n",
            "Epoch 89/100\n",
            "536/536 [==============================] - 1s 2ms/step - loss: 0.3797 - accuracy: 0.8403 - val_loss: 0.3925 - val_accuracy: 0.8285\n",
            "Epoch 90/100\n",
            "536/536 [==============================] - 1s 2ms/step - loss: 0.3584 - accuracy: 0.8566 - val_loss: 0.3924 - val_accuracy: 0.8315\n",
            "Epoch 91/100\n",
            "536/536 [==============================] - 1s 2ms/step - loss: 0.3634 - accuracy: 0.8537 - val_loss: 0.3915 - val_accuracy: 0.8304\n",
            "Epoch 92/100\n",
            "536/536 [==============================] - 1s 2ms/step - loss: 0.3594 - accuracy: 0.8466 - val_loss: 0.3910 - val_accuracy: 0.8296\n",
            "Epoch 93/100\n",
            "536/536 [==============================] - 1s 2ms/step - loss: 0.3750 - accuracy: 0.8459 - val_loss: 0.3907 - val_accuracy: 0.8292\n",
            "Epoch 94/100\n",
            "536/536 [==============================] - 1s 2ms/step - loss: 0.3649 - accuracy: 0.8491 - val_loss: 0.3903 - val_accuracy: 0.8311\n",
            "Epoch 95/100\n",
            "536/536 [==============================] - 1s 2ms/step - loss: 0.3599 - accuracy: 0.8558 - val_loss: 0.3896 - val_accuracy: 0.8304\n",
            "Epoch 96/100\n",
            "536/536 [==============================] - 1s 2ms/step - loss: 0.3671 - accuracy: 0.8439 - val_loss: 0.3893 - val_accuracy: 0.8311\n",
            "Epoch 97/100\n",
            "536/536 [==============================] - 1s 2ms/step - loss: 0.3707 - accuracy: 0.8419 - val_loss: 0.3892 - val_accuracy: 0.8307\n",
            "Epoch 98/100\n",
            "536/536 [==============================] - 1s 2ms/step - loss: 0.3714 - accuracy: 0.8447 - val_loss: 0.3888 - val_accuracy: 0.8296\n",
            "Epoch 99/100\n",
            "536/536 [==============================] - 1s 2ms/step - loss: 0.3600 - accuracy: 0.8561 - val_loss: 0.3884 - val_accuracy: 0.8315\n",
            "Epoch 100/100\n",
            "536/536 [==============================] - 1s 2ms/step - loss: 0.3613 - accuracy: 0.8523 - val_loss: 0.3879 - val_accuracy: 0.8319\n"
          ],
          "name": "stdout"
        }
      ]
    },
    {
      "cell_type": "code",
      "metadata": {
        "id": "pbKm5I0zfCBT"
      },
      "source": [
        "y_pred = classifier.predict(X_test)\n",
        "y_pred =(y_pred>0.5)"
      ],
      "execution_count": 25,
      "outputs": []
    },
    {
      "cell_type": "code",
      "metadata": {
        "id": "6MvdOPNDhwW0"
      },
      "source": [
        "from sklearn.metrics import confusion_matrix\n",
        "cm = confusion_matrix(Y_test, y_pred)"
      ],
      "execution_count": 26,
      "outputs": []
    },
    {
      "cell_type": "code",
      "metadata": {
        "id": "x2DhvtwAf5pC"
      },
      "source": [
        "from sklearn.metrics import accuracy_score\n",
        "score=accuracy_score(y_pred,Y_test)"
      ],
      "execution_count": 27,
      "outputs": []
    },
    {
      "cell_type": "code",
      "metadata": {
        "colab": {
          "base_uri": "https://localhost:8080/"
        },
        "id": "Wqmeiw3ygIsc",
        "outputId": "9eaf519f-01b1-4e6c-8dc6-89d964b36b0e"
      },
      "source": [
        "print(score)"
      ],
      "execution_count": 28,
      "outputs": [
        {
          "output_type": "stream",
          "text": [
            "0.8445\n"
          ],
          "name": "stdout"
        }
      ]
    },
    {
      "cell_type": "code",
      "metadata": {
        "colab": {
          "base_uri": "https://localhost:8080/",
          "height": 312
        },
        "id": "uCSpvtffgOt1",
        "outputId": "fb277ef1-837e-4db0-818a-a983646f2a3c"
      },
      "source": [
        "# list all data in history\n",
        "\n",
        "print(model_history.history.keys())\n",
        "# summarize history for accuracy\n",
        "plt.plot(model_history.history['accuracy'])\n",
        "plt.plot(model_history.history['val_accuracy'])\n",
        "plt.title('model accuracy')\n",
        "plt.ylabel('accuracy')\n",
        "plt.xlabel('epoch')\n",
        "plt.legend(['train', 'test'], loc='upper left')\n",
        "plt.show()"
      ],
      "execution_count": 31,
      "outputs": [
        {
          "output_type": "stream",
          "text": [
            "dict_keys(['loss', 'accuracy', 'val_loss', 'val_accuracy'])\n"
          ],
          "name": "stdout"
        },
        {
          "output_type": "display_data",
          "data": {
            "image/png": "[encoded data removed]",
            "text/plain": [
              "<Figure size 432x288 with 1 Axes>"
            ]
          },
          "metadata": {
            "tags": [],
            "needs_background": "light"
          }
        }
      ]
    },
    {
      "cell_type": "code",
      "metadata": {
        "colab": {
          "base_uri": "https://localhost:8080/",
          "height": 295
        },
        "id": "uiDClhkAiuo9",
        "outputId": "23a01954-df19-4405-f12a-c831d2230fd8"
      },
      "source": [
        "# summarize history for loss\n",
        "plt.plot(model_history.history['loss'])\n",
        "plt.plot(model_history.history['val_loss'])\n",
        "plt.title('model loss')\n",
        "plt.ylabel('loss')\n",
        "plt.xlabel('epoch')\n",
        "plt.legend(['train', 'test'], loc='upper left')\n",
        "plt.show()"
      ],
      "execution_count": 32,
      "outputs": [
        {
          "output_type": "display_data",
          "data": {
            "image/png": "[encoded data removed]",
            "text/plain": [
              "<Figure size 432x288 with 1 Axes>"
            ]
          },
          "metadata": {
            "tags": [],
            "needs_background": "light"
          }
        }
      ]
    },
    {
      "cell_type": "code",
      "metadata": {
        "id": "pv2wxuM3jRpw"
      },
      "source": [
        ""
      ],
      "execution_count": null,
      "outputs": []
    }
  ]
}